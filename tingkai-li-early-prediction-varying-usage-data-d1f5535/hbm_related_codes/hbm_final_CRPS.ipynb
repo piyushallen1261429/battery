{
 "cells": [
  {
   "cell_type": "code",
   "execution_count": 3,
   "metadata": {},
   "outputs": [
    {
     "name": "stderr",
     "output_type": "stream",
     "text": [
      "WARNING (theano.tensor.blas): Using NumPy C-API based implementation for BLAS functions.\n",
      "/tmp/ipykernel_3267260/2306091604.py:18: MatplotlibDeprecationWarning: The seaborn styles shipped by Matplotlib are deprecated since 3.6, as they no longer correspond to the styles shipped by seaborn. However, they will remain available as 'seaborn-v0_8-<style>'. Alternatively, directly use the seaborn API instead.\n",
      "  plt.style.use('seaborn-ticks')\n"
     ]
    }
   ],
   "source": [
    "import numpy as np\n",
    "# from theano.tensor import shared\n",
    "from theano import shared\n",
    "import pandas as pd\n",
    "import seaborn as sns\n",
    "\n",
    "from sklearn.model_selection import train_test_split\n",
    "from sklearn.metrics import mean_squared_error\n",
    "from sklearn.metrics import mean_absolute_percentage_error\n",
    "from sklearn.preprocessing import StandardScaler\n",
    "\n",
    "# the pymc3 version used - 3.11.5\n",
    "import pymc3 as pm\n",
    "import matplotlib.pyplot as plt\n",
    "\n",
    "DATA_DIR = '/final_train_test_split/'\n",
    "plt.rcParams[\"font.family\"] = \"Times New Roman\"\n",
    "plt.style.use('seaborn-ticks')"
   ]
  },
  {
   "cell_type": "code",
   "execution_count": 4,
   "metadata": {},
   "outputs": [],
   "source": [
    "def hbm_vary_intercepts_slopes_model(train_df, test_df, selected_names, individual_names, feat_dim):\n",
    "    \"\"\"\n",
    "    This the main function for hierarchical Bayesian model(HBM) used in the paper \n",
    "    <PREDICTING BATTERY LIFETIME UNDER VARYING USAGE CONDITIONS FROM EARLY AGING DATA>\n",
    "\n",
    "    intput_params: \n",
    "        train_df - the training set with necessary group/individual features\n",
    "        test_df - the test set including with necessary group/individual features\n",
    "        selected_names - all feature column names\n",
    "        individual_names - individual-level feature column names\n",
    "        feat_dim - individual-level feature number, will influening the HBM model structure\n",
    "    outputs:\n",
    "        tol_rmse_hierarchical - average Root-mean-square-error (RMSE) for predictions on the test set\n",
    "        tol_mape_hierarchical - average mean-absolute-percentage-error (MAPE) for predictions on the test set\n",
    "\n",
    "    \"\"\"\n",
    "\n",
    "    # Using optimal 4 clusters setting mentioned in the paper\n",
    "    group_num = len(train_df.cluster_c4.unique())\n",
    "    with_group_names = selected_names.copy()\n",
    "    with_group_names.append('cluster_c4')\n",
    "\n",
    "    x_train, x_test = train_df.loc[:, with_group_names], test_df.loc[:, with_group_names]\n",
    "    y_train, y_test = train_df.loc[:,'Lifetime'], test_df.loc[:,'Lifetime']\n",
    "\n",
    "    # calculate group level feature for each cluster\n",
    "    group_level_variables_train = np.zeros((group_num,1))\n",
    "    for group_idx in range(group_num):\n",
    "        mean_gf = np.mean(x_train.loc[x_train.cluster_c4 == group_idx, 'avg_stress'].values)\n",
    "        group_level_variables_train[group_idx,0] = mean_gf\n",
    "\n",
    "    raw_group_ind = x_train.loc[:,'cluster_c4'].values\n",
    "    raw_group_ind = raw_group_ind.astype(int)\n",
    "    group_ind = shared(np.asarray(raw_group_ind))\n",
    "\n",
    "    # Standard Scaler for both train and test set\n",
    "    transformer = StandardScaler()\n",
    "    processed_x_train = transformer.fit_transform(x_train.loc[:,individual_names])\n",
    "    processed_x_test = transformer.transform(x_test.loc[:,individual_names])\n",
    "\n",
    "    # Main HBM construction\n",
    "    with pm.Model() as hierarchical_model:\n",
    "        data = pm.Data('data', processed_x_train)\n",
    "        group_data = pm.Data('group_data', group_level_variables_train)\n",
    "\n",
    "        g_intercept = pm.Normal('g_intercept', mu = 12, sigma=10)\n",
    "        g = pm.Normal('g', mu = 0, sigma = 1) # hyperprior intercept\n",
    "        mu_intercept = g_intercept + g * group_data[:,0]\n",
    "        intercept = pm.Deterministic('intercept', mu_intercept)\n",
    "\n",
    "        # hyperprior slope0 - slope2\n",
    "        g_slope0 = pm.Normal('g_slope0', mu = 0, sigma = 10, shape = 2) \n",
    "        mu_slope0 =  g_slope0[0] + g_slope0[1] * group_data[:,0]\n",
    "        slope_0 = pm.Deterministic('slope_0', mu_slope0)\n",
    "\n",
    "        g_slope1 = pm.Normal('g_slope1', mu = 0, sigma = 10, shape = 2) \n",
    "        mu_slope1 = g_slope1[0] + g_slope1[1] * group_data[:,0] \n",
    "        slope_1 = pm.Deterministic('slope_1', mu_slope1)\n",
    "\n",
    "        # Two model construction choices: 2 or 3 individual-level features\n",
    "        if feat_dim == 2:\n",
    "            g_noise = pm.HalfCauchy('g_noise', beta=1)\n",
    "            noise = pm.HalfCauchy('noise', beta=g_noise, shape=group_num)\n",
    "            sds = noise[group_ind]\n",
    "            y_est = intercept[group_ind] + slope_0[group_ind] * data[:,0] + slope_1[group_ind] * data[:,1]\n",
    "        elif feat_dim == 3:\n",
    "            g_slope2 = pm.Normal('g_slope2', mu = 0, sigma = 10, shape = 2) # hyperprior slope0 - slope2\n",
    "            mu_slope2 = g_slope2[0] + g_slope2[1] * group_data[:,0]\n",
    "            slope_2 = pm.Deterministic('slope_2', mu_slope2)\n",
    "            g_noise = pm.HalfCauchy('g_noise', beta=1)\n",
    "            noise = pm.HalfCauchy('noise', beta=g_noise, shape=group_num)\n",
    "            sds = noise[group_ind]\n",
    "            y_est = intercept[group_ind] + slope_0[group_ind] * data[:,0] + slope_1[group_ind] * data[:,1] + slope_2[group_ind] * data[:,2]\n",
    "        else:\n",
    "            raise ValueError('The individual level features number is either 2 or 3.')\n",
    "        \n",
    "        # sampling/inference step, the choice of tune and trace is set to 1000 which is common in analysis\n",
    "        likelihood = pm.Normal('y_like', mu=y_est, sd=sds, observed=y_train.values)\n",
    "        hierarchical_trace = pm.sample(1000, tune=1000, target_accept=0.99,return_inferencedata=False)\n",
    "\n",
    "    with hierarchical_model:\n",
    "        all_test = processed_x_test\n",
    "        all_labels = y_test.values\n",
    "\n",
    "        raw_group_ind = x_test.loc[:,'cluster_c4'].values\n",
    "        raw_group_ind = raw_group_ind.astype(int)\n",
    "        group_ind.set_value(np.asarray(raw_group_ind))\n",
    "        \n",
    "        pm.set_data({'data': all_test}, model=hierarchical_model)\n",
    "        all_posterior_samples = pm.sample_posterior_predictive(hierarchical_trace)\n",
    "        all_pred = all_posterior_samples[\"y_like\"].mean(axis=0)\n",
    "        tol_mape_hierarchical = mean_absolute_percentage_error(y_true = all_labels, \n",
    "                                            y_pred = all_pred)\n",
    "        tol_rmse_hierarchical = mean_squared_error(y_true= all_labels, \n",
    "                                            y_pred = all_pred, squared=False)\n",
    "                           \n",
    "    return [tol_rmse_hierarchical, tol_mape_hierarchical, hierarchical_trace, all_pred, all_posterior_samples]"
   ]
  },
  {
   "cell_type": "code",
   "execution_count": 5,
   "metadata": {},
   "outputs": [],
   "source": [
    "DATA_DIR = 'train_test_split_revised/'\n",
    "train_df = pd.read_csv(DATA_DIR + 'training.csv',index_col=0)\n",
    "testin_df = pd.read_csv(DATA_DIR + 'test_in.csv',index_col=0)\n",
    "testout_df = pd.read_csv(DATA_DIR + 'test_out.csv',index_col=0)"
   ]
  },
  {
   "cell_type": "code",
   "execution_count": 7,
   "metadata": {},
   "outputs": [
    {
     "data": {
      "text/html": [
       "<div>\n",
       "<style scoped>\n",
       "    .dataframe tbody tr th:only-of-type {\n",
       "        vertical-align: middle;\n",
       "    }\n",
       "\n",
       "    .dataframe tbody tr th {\n",
       "        vertical-align: top;\n",
       "    }\n",
       "\n",
       "    .dataframe thead th {\n",
       "        text-align: right;\n",
       "    }\n",
       "</style>\n",
       "<table border=\"1\" class=\"dataframe\">\n",
       "  <thead>\n",
       "    <tr style=\"text-align: right;\">\n",
       "      <th></th>\n",
       "      <th>Cell</th>\n",
       "      <th>Chg C-rate</th>\n",
       "      <th>Dchg C-rate</th>\n",
       "      <th>DoD</th>\n",
       "      <th>Lifetime</th>\n",
       "      <th>Q_initial</th>\n",
       "      <th>Q_ini_V_low</th>\n",
       "      <th>Q_ini_V_mid</th>\n",
       "      <th>Q_ini_V_high</th>\n",
       "      <th>CV_time_0</th>\n",
       "      <th>...</th>\n",
       "      <th>mean_dqdv_dchg_high_3_0</th>\n",
       "      <th>delta_Q_DVA1</th>\n",
       "      <th>delta_Q_DVA2</th>\n",
       "      <th>delta_Q_DVA3</th>\n",
       "      <th>delta_Q_DVA4</th>\n",
       "      <th>chg_stress</th>\n",
       "      <th>dchg_stress</th>\n",
       "      <th>avg_stress</th>\n",
       "      <th>multi_stress</th>\n",
       "      <th>cluster_c4</th>\n",
       "    </tr>\n",
       "    <tr>\n",
       "      <th>Group</th>\n",
       "      <th></th>\n",
       "      <th></th>\n",
       "      <th></th>\n",
       "      <th></th>\n",
       "      <th></th>\n",
       "      <th></th>\n",
       "      <th></th>\n",
       "      <th></th>\n",
       "      <th></th>\n",
       "      <th></th>\n",
       "      <th></th>\n",
       "      <th></th>\n",
       "      <th></th>\n",
       "      <th></th>\n",
       "      <th></th>\n",
       "      <th></th>\n",
       "      <th></th>\n",
       "      <th></th>\n",
       "      <th></th>\n",
       "      <th></th>\n",
       "      <th></th>\n",
       "    </tr>\n",
       "  </thead>\n",
       "  <tbody>\n",
       "    <tr>\n",
       "      <th>G60</th>\n",
       "      <td>G60C4</td>\n",
       "      <td>0.675</td>\n",
       "      <td>1.325</td>\n",
       "      <td>0.828718</td>\n",
       "      <td>9.861</td>\n",
       "      <td>0.284072</td>\n",
       "      <td>-0.078872</td>\n",
       "      <td>-0.116594</td>\n",
       "      <td>-0.089083</td>\n",
       "      <td>1073.0</td>\n",
       "      <td>...</td>\n",
       "      <td>-0.002677</td>\n",
       "      <td>-0.027105</td>\n",
       "      <td>0.014076</td>\n",
       "      <td>0.005979</td>\n",
       "      <td>0.033083</td>\n",
       "      <td>0.747920</td>\n",
       "      <td>1.047880</td>\n",
       "      <td>0.897900</td>\n",
       "      <td>0.783731</td>\n",
       "      <td>1.0</td>\n",
       "    </tr>\n",
       "    <tr>\n",
       "      <th>G62</th>\n",
       "      <td>G62C1</td>\n",
       "      <td>1.575</td>\n",
       "      <td>2.425</td>\n",
       "      <td>0.616849</td>\n",
       "      <td>15.050</td>\n",
       "      <td>0.279532</td>\n",
       "      <td>-0.079388</td>\n",
       "      <td>-0.115480</td>\n",
       "      <td>-0.085216</td>\n",
       "      <td>1182.0</td>\n",
       "      <td>...</td>\n",
       "      <td>0.009440</td>\n",
       "      <td>-0.015516</td>\n",
       "      <td>0.016755</td>\n",
       "      <td>0.015432</td>\n",
       "      <td>0.030949</td>\n",
       "      <td>0.985666</td>\n",
       "      <td>1.223053</td>\n",
       "      <td>1.104360</td>\n",
       "      <td>1.205522</td>\n",
       "      <td>0.0</td>\n",
       "    </tr>\n",
       "    <tr>\n",
       "      <th>G62</th>\n",
       "      <td>G62C2</td>\n",
       "      <td>1.575</td>\n",
       "      <td>2.425</td>\n",
       "      <td>0.641347</td>\n",
       "      <td>11.719</td>\n",
       "      <td>0.284104</td>\n",
       "      <td>-0.080419</td>\n",
       "      <td>-0.117582</td>\n",
       "      <td>-0.086567</td>\n",
       "      <td>1134.0</td>\n",
       "      <td>...</td>\n",
       "      <td>0.000195</td>\n",
       "      <td>0.004055</td>\n",
       "      <td>0.014574</td>\n",
       "      <td>0.013009</td>\n",
       "      <td>0.008954</td>\n",
       "      <td>1.005048</td>\n",
       "      <td>1.247103</td>\n",
       "      <td>1.126076</td>\n",
       "      <td>1.253399</td>\n",
       "      <td>0.0</td>\n",
       "    </tr>\n",
       "    <tr>\n",
       "      <th>G62</th>\n",
       "      <td>G62C3</td>\n",
       "      <td>1.575</td>\n",
       "      <td>2.425</td>\n",
       "      <td>0.632135</td>\n",
       "      <td>11.633</td>\n",
       "      <td>0.279889</td>\n",
       "      <td>-0.079261</td>\n",
       "      <td>-0.116220</td>\n",
       "      <td>-0.085228</td>\n",
       "      <td>1241.0</td>\n",
       "      <td>...</td>\n",
       "      <td>0.005893</td>\n",
       "      <td>-0.020591</td>\n",
       "      <td>0.017067</td>\n",
       "      <td>0.014778</td>\n",
       "      <td>0.035369</td>\n",
       "      <td>0.997804</td>\n",
       "      <td>1.238115</td>\n",
       "      <td>1.117959</td>\n",
       "      <td>1.235396</td>\n",
       "      <td>0.0</td>\n",
       "    </tr>\n",
       "    <tr>\n",
       "      <th>G62</th>\n",
       "      <td>G62C4</td>\n",
       "      <td>1.575</td>\n",
       "      <td>2.425</td>\n",
       "      <td>0.677446</td>\n",
       "      <td>7.766</td>\n",
       "      <td>0.284529</td>\n",
       "      <td>-0.074642</td>\n",
       "      <td>-0.116140</td>\n",
       "      <td>-0.094059</td>\n",
       "      <td>948.0</td>\n",
       "      <td>...</td>\n",
       "      <td>0.017968</td>\n",
       "      <td>0.006462</td>\n",
       "      <td>0.018794</td>\n",
       "      <td>0.007393</td>\n",
       "      <td>0.000931</td>\n",
       "      <td>1.032946</td>\n",
       "      <td>1.281720</td>\n",
       "      <td>1.157333</td>\n",
       "      <td>1.323947</td>\n",
       "      <td>0.0</td>\n",
       "    </tr>\n",
       "  </tbody>\n",
       "</table>\n",
       "<p>5 rows × 32 columns</p>\n",
       "</div>"
      ],
      "text/plain": [
       "        Cell  Chg C-rate  Dchg C-rate       DoD  Lifetime  Q_initial  \\\n",
       "Group                                                                  \n",
       "G60    G60C4       0.675        1.325  0.828718     9.861   0.284072   \n",
       "G62    G62C1       1.575        2.425  0.616849    15.050   0.279532   \n",
       "G62    G62C2       1.575        2.425  0.641347    11.719   0.284104   \n",
       "G62    G62C3       1.575        2.425  0.632135    11.633   0.279889   \n",
       "G62    G62C4       1.575        2.425  0.677446     7.766   0.284529   \n",
       "\n",
       "       Q_ini_V_low  Q_ini_V_mid  Q_ini_V_high  CV_time_0  ...  \\\n",
       "Group                                                     ...   \n",
       "G60      -0.078872    -0.116594     -0.089083     1073.0  ...   \n",
       "G62      -0.079388    -0.115480     -0.085216     1182.0  ...   \n",
       "G62      -0.080419    -0.117582     -0.086567     1134.0  ...   \n",
       "G62      -0.079261    -0.116220     -0.085228     1241.0  ...   \n",
       "G62      -0.074642    -0.116140     -0.094059      948.0  ...   \n",
       "\n",
       "       mean_dqdv_dchg_high_3_0  delta_Q_DVA1  delta_Q_DVA2  delta_Q_DVA3  \\\n",
       "Group                                                                      \n",
       "G60                  -0.002677     -0.027105      0.014076      0.005979   \n",
       "G62                   0.009440     -0.015516      0.016755      0.015432   \n",
       "G62                   0.000195      0.004055      0.014574      0.013009   \n",
       "G62                   0.005893     -0.020591      0.017067      0.014778   \n",
       "G62                   0.017968      0.006462      0.018794      0.007393   \n",
       "\n",
       "       delta_Q_DVA4  chg_stress  dchg_stress  avg_stress  multi_stress  \\\n",
       "Group                                                                    \n",
       "G60        0.033083    0.747920     1.047880    0.897900      0.783731   \n",
       "G62        0.030949    0.985666     1.223053    1.104360      1.205522   \n",
       "G62        0.008954    1.005048     1.247103    1.126076      1.253399   \n",
       "G62        0.035369    0.997804     1.238115    1.117959      1.235396   \n",
       "G62        0.000931    1.032946     1.281720    1.157333      1.323947   \n",
       "\n",
       "       cluster_c4  \n",
       "Group              \n",
       "G60           1.0  \n",
       "G62           0.0  \n",
       "G62           0.0  \n",
       "G62           0.0  \n",
       "G62           0.0  \n",
       "\n",
       "[5 rows x 32 columns]"
      ]
     },
     "execution_count": 7,
     "metadata": {},
     "output_type": "execute_result"
    }
   ],
   "source": [
    "train_df.tail(5)"
   ]
  },
  {
   "cell_type": "code",
   "execution_count": 5,
   "metadata": {},
   "outputs": [],
   "source": [
    "# Calculate the corresponding features mentioned in the paper\n",
    "# avg_stress: Stress_avg - the group level feature\n",
    "# log_mean_dqdv_dchg_mid_3_0, log_delta_CV_time_03 are the top two individual-level features mention in Table 1\n",
    "\n",
    "                                  \n",
    "train_df['log_mean_dqdv_dchg_mid_3_0'] = np.log(abs(train_df.mean_dqdv_dchg_mid_3_0))\n",
    "testin_df['log_mean_dqdv_dchg_mid_3_0'] = np.log(abs(testin_df.mean_dqdv_dchg_mid_3_0))\n",
    "testout_df['log_mean_dqdv_dchg_mid_3_0'] = np.log(abs(testout_df.mean_dqdv_dchg_mid_3_0))\n",
    "\n",
    "train_df['log_delta_CV_time_03'] = np.log(abs(train_df.delta_CV_time_3_0))\n",
    "testin_df['log_delta_CV_time_03'] = np.log(abs(testin_df.delta_CV_time_3_0))\n",
    "testout_df['log_delta_CV_time_03'] = np.log(abs(testout_df.delta_CV_time_3_0))\n",
    "\n",
    "train_df['log(Lifetime)'] = np.log(train_df.Lifetime)\n",
    "testin_df['log(Lifetime)'] = np.log(testin_df.Lifetime)\n",
    "testout_df['log(Lifetime)'] = np.log(testout_df.Lifetime)"
   ]
  },
  {
   "cell_type": "code",
   "execution_count": 6,
   "metadata": {},
   "outputs": [
    {
     "name": "stderr",
     "output_type": "stream",
     "text": [
      "Auto-assigning NUTS sampler...\n",
      "Initializing NUTS using jitter+adapt_diag...\n",
      "Multiprocess sampling (4 chains in 4 jobs)\n",
      "NUTS: [noise, g_noise, g_slope1, g_slope0, g, g_intercept]\n"
     ]
    },
    {
     "data": {
      "text/html": [
       "\n",
       "<style>\n",
       "    /* Turns off some styling */\n",
       "    progress {\n",
       "        /* gets rid of default border in Firefox and Opera. */\n",
       "        border: none;\n",
       "        /* Needs to be in here for Safari polyfill so background images work as expected. */\n",
       "        background-size: auto;\n",
       "    }\n",
       "    progress:not([value]), progress:not([value])::-webkit-progress-bar {\n",
       "        background: repeating-linear-gradient(45deg, #7e7e7e, #7e7e7e 10px, #5c5c5c 10px, #5c5c5c 20px);\n",
       "    }\n",
       "    .progress-bar-interrupted, .progress-bar-interrupted::-webkit-progress-bar {\n",
       "        background: #F44336;\n",
       "    }\n",
       "</style>\n"
      ],
      "text/plain": [
       "<IPython.core.display.HTML object>"
      ]
     },
     "metadata": {},
     "output_type": "display_data"
    },
    {
     "data": {
      "text/html": [
       "\n",
       "    <div>\n",
       "      <progress value='8000' class='' max='8000' style='width:300px; height:20px; vertical-align: middle;'></progress>\n",
       "      100.00% [8000/8000 00:39&lt;00:00 Sampling 4 chains, 0 divergences]\n",
       "    </div>\n",
       "    "
      ],
      "text/plain": [
       "<IPython.core.display.HTML object>"
      ]
     },
     "metadata": {},
     "output_type": "display_data"
    },
    {
     "name": "stderr",
     "output_type": "stream",
     "text": [
      "Sampling 4 chains for 1_000 tune and 1_000 draw iterations (4_000 + 4_000 draws total) took 40 seconds.\n"
     ]
    },
    {
     "data": {
      "text/html": [
       "\n",
       "<style>\n",
       "    /* Turns off some styling */\n",
       "    progress {\n",
       "        /* gets rid of default border in Firefox and Opera. */\n",
       "        border: none;\n",
       "        /* Needs to be in here for Safari polyfill so background images work as expected. */\n",
       "        background-size: auto;\n",
       "    }\n",
       "    progress:not([value]), progress:not([value])::-webkit-progress-bar {\n",
       "        background: repeating-linear-gradient(45deg, #7e7e7e, #7e7e7e 10px, #5c5c5c 10px, #5c5c5c 20px);\n",
       "    }\n",
       "    .progress-bar-interrupted, .progress-bar-interrupted::-webkit-progress-bar {\n",
       "        background: #F44336;\n",
       "    }\n",
       "</style>\n"
      ],
      "text/plain": [
       "<IPython.core.display.HTML object>"
      ]
     },
     "metadata": {},
     "output_type": "display_data"
    },
    {
     "data": {
      "text/html": [
       "\n",
       "    <div>\n",
       "      <progress value='4000' class='' max='4000' style='width:300px; height:20px; vertical-align: middle;'></progress>\n",
       "      100.00% [4000/4000 00:06&lt;00:00]\n",
       "    </div>\n",
       "    "
      ],
      "text/plain": [
       "<IPython.core.display.HTML object>"
      ]
     },
     "metadata": {},
     "output_type": "display_data"
    },
    {
     "name": "stderr",
     "output_type": "stream",
     "text": [
      "Auto-assigning NUTS sampler...\n",
      "Initializing NUTS using jitter+adapt_diag...\n",
      "Multiprocess sampling (4 chains in 4 jobs)\n",
      "NUTS: [noise, g_noise, g_slope1, g_slope0, g, g_intercept]\n"
     ]
    },
    {
     "data": {
      "text/html": [
       "\n",
       "<style>\n",
       "    /* Turns off some styling */\n",
       "    progress {\n",
       "        /* gets rid of default border in Firefox and Opera. */\n",
       "        border: none;\n",
       "        /* Needs to be in here for Safari polyfill so background images work as expected. */\n",
       "        background-size: auto;\n",
       "    }\n",
       "    progress:not([value]), progress:not([value])::-webkit-progress-bar {\n",
       "        background: repeating-linear-gradient(45deg, #7e7e7e, #7e7e7e 10px, #5c5c5c 10px, #5c5c5c 20px);\n",
       "    }\n",
       "    .progress-bar-interrupted, .progress-bar-interrupted::-webkit-progress-bar {\n",
       "        background: #F44336;\n",
       "    }\n",
       "</style>\n"
      ],
      "text/plain": [
       "<IPython.core.display.HTML object>"
      ]
     },
     "metadata": {},
     "output_type": "display_data"
    },
    {
     "data": {
      "text/html": [
       "\n",
       "    <div>\n",
       "      <progress value='8000' class='' max='8000' style='width:300px; height:20px; vertical-align: middle;'></progress>\n",
       "      100.00% [8000/8000 00:45&lt;00:00 Sampling 4 chains, 0 divergences]\n",
       "    </div>\n",
       "    "
      ],
      "text/plain": [
       "<IPython.core.display.HTML object>"
      ]
     },
     "metadata": {},
     "output_type": "display_data"
    },
    {
     "name": "stderr",
     "output_type": "stream",
     "text": [
      "Sampling 4 chains for 1_000 tune and 1_000 draw iterations (4_000 + 4_000 draws total) took 46 seconds.\n"
     ]
    },
    {
     "data": {
      "text/html": [
       "\n",
       "<style>\n",
       "    /* Turns off some styling */\n",
       "    progress {\n",
       "        /* gets rid of default border in Firefox and Opera. */\n",
       "        border: none;\n",
       "        /* Needs to be in here for Safari polyfill so background images work as expected. */\n",
       "        background-size: auto;\n",
       "    }\n",
       "    progress:not([value]), progress:not([value])::-webkit-progress-bar {\n",
       "        background: repeating-linear-gradient(45deg, #7e7e7e, #7e7e7e 10px, #5c5c5c 10px, #5c5c5c 20px);\n",
       "    }\n",
       "    .progress-bar-interrupted, .progress-bar-interrupted::-webkit-progress-bar {\n",
       "        background: #F44336;\n",
       "    }\n",
       "</style>\n"
      ],
      "text/plain": [
       "<IPython.core.display.HTML object>"
      ]
     },
     "metadata": {},
     "output_type": "display_data"
    },
    {
     "data": {
      "text/html": [
       "\n",
       "    <div>\n",
       "      <progress value='4000' class='' max='4000' style='width:300px; height:20px; vertical-align: middle;'></progress>\n",
       "      100.00% [4000/4000 00:07&lt;00:00]\n",
       "    </div>\n",
       "    "
      ],
      "text/plain": [
       "<IPython.core.display.HTML object>"
      ]
     },
     "metadata": {},
     "output_type": "display_data"
    },
    {
     "name": "stderr",
     "output_type": "stream",
     "text": [
      "Auto-assigning NUTS sampler...\n",
      "Initializing NUTS using jitter+adapt_diag...\n",
      "Multiprocess sampling (4 chains in 4 jobs)\n",
      "NUTS: [noise, g_noise, g_slope1, g_slope0, g, g_intercept]\n"
     ]
    },
    {
     "data": {
      "text/html": [
       "\n",
       "<style>\n",
       "    /* Turns off some styling */\n",
       "    progress {\n",
       "        /* gets rid of default border in Firefox and Opera. */\n",
       "        border: none;\n",
       "        /* Needs to be in here for Safari polyfill so background images work as expected. */\n",
       "        background-size: auto;\n",
       "    }\n",
       "    progress:not([value]), progress:not([value])::-webkit-progress-bar {\n",
       "        background: repeating-linear-gradient(45deg, #7e7e7e, #7e7e7e 10px, #5c5c5c 10px, #5c5c5c 20px);\n",
       "    }\n",
       "    .progress-bar-interrupted, .progress-bar-interrupted::-webkit-progress-bar {\n",
       "        background: #F44336;\n",
       "    }\n",
       "</style>\n"
      ],
      "text/plain": [
       "<IPython.core.display.HTML object>"
      ]
     },
     "metadata": {},
     "output_type": "display_data"
    },
    {
     "data": {
      "text/html": [
       "\n",
       "    <div>\n",
       "      <progress value='8000' class='' max='8000' style='width:300px; height:20px; vertical-align: middle;'></progress>\n",
       "      100.00% [8000/8000 00:41&lt;00:00 Sampling 4 chains, 0 divergences]\n",
       "    </div>\n",
       "    "
      ],
      "text/plain": [
       "<IPython.core.display.HTML object>"
      ]
     },
     "metadata": {},
     "output_type": "display_data"
    },
    {
     "name": "stderr",
     "output_type": "stream",
     "text": [
      "Sampling 4 chains for 1_000 tune and 1_000 draw iterations (4_000 + 4_000 draws total) took 42 seconds.\n"
     ]
    },
    {
     "data": {
      "text/html": [
       "\n",
       "<style>\n",
       "    /* Turns off some styling */\n",
       "    progress {\n",
       "        /* gets rid of default border in Firefox and Opera. */\n",
       "        border: none;\n",
       "        /* Needs to be in here for Safari polyfill so background images work as expected. */\n",
       "        background-size: auto;\n",
       "    }\n",
       "    progress:not([value]), progress:not([value])::-webkit-progress-bar {\n",
       "        background: repeating-linear-gradient(45deg, #7e7e7e, #7e7e7e 10px, #5c5c5c 10px, #5c5c5c 20px);\n",
       "    }\n",
       "    .progress-bar-interrupted, .progress-bar-interrupted::-webkit-progress-bar {\n",
       "        background: #F44336;\n",
       "    }\n",
       "</style>\n"
      ],
      "text/plain": [
       "<IPython.core.display.HTML object>"
      ]
     },
     "metadata": {},
     "output_type": "display_data"
    },
    {
     "data": {
      "text/html": [
       "\n",
       "    <div>\n",
       "      <progress value='4000' class='' max='4000' style='width:300px; height:20px; vertical-align: middle;'></progress>\n",
       "      100.00% [4000/4000 00:09&lt;00:00]\n",
       "    </div>\n",
       "    "
      ],
      "text/plain": [
       "<IPython.core.display.HTML object>"
      ]
     },
     "metadata": {},
     "output_type": "display_data"
    },
    {
     "name": "stdout",
     "output_type": "stream",
     "text": [
      "train set: RMSE-3.271 MAPE-0.187\n",
      "testin set: RMSE-3.086 MAPE-0.171\n",
      "testout set: RMSE-7.318 MAPE-0.217\n"
     ]
    }
   ],
   "source": [
    "# This the experiment on HBM (with 2 individual level features)\n",
    "# Results recorded in Table 2\n",
    "selected_names = ['avg_stress', 'log_mean_dqdv_dchg_mid_3_0','log_delta_CV_time_03']\n",
    "individual_names = [ 'log_mean_dqdv_dchg_mid_3_0','log_delta_CV_time_03']\n",
    "\n",
    "rmse_hbm_train, mape_hbm_train, sample_trace_train, all_preds_train, posterior_hbm_train = hbm_vary_intercepts_slopes_model(train_df, train_df, selected_names, individual_names, feat_dim=2)\n",
    "rmse_hbm_testin, mape_hbm_testin, sample_trace_testin, all_preds_testin, posterior_hbm_testin = hbm_vary_intercepts_slopes_model(train_df, testin_df, selected_names, individual_names, feat_dim=2)\n",
    "rmse_hbm_testout, mape_hbm_testout, sample_trace_testout, all_preds_testout, posterior_hbm_testout  = hbm_vary_intercepts_slopes_model(train_df, testout_df, selected_names, individual_names, feat_dim=2)\n",
    "\n",
    "print('train set: RMSE-{} MAPE-{}'.format(rmse_hbm_train.round(3), mape_hbm_train.round(3)))\n",
    "print('testin set: RMSE-{} MAPE-{}'.format(rmse_hbm_testin.round(3), mape_hbm_testin.round(3)))\n",
    "print('testout set: RMSE-{} MAPE-{}'.format(rmse_hbm_testout.round(3), mape_hbm_testout.round(3)))\n",
    "\n",
    "# Save the whole posterior for prediction as csv files\n",
    "# Use them to generate Fig 5 in the paper\n",
    "\n",
    "np.savetxt('hbm_posterior_train.csv', posterior_hbm_train['y_like'])\n",
    "np.savetxt('hbm_posterior_testin.csv', posterior_hbm_testin['y_like'])\n",
    "np.savetxt('hbm_posterior_testout.csv', posterior_hbm_testout['y_like'])\n",
    "\n",
    "# Save posterior for parameters as csv files\n",
    "# Use them to generate Fig 5 in the paper\n",
    "\n",
    "np.savetxt('hbm_intercepts.csv', sample_trace_train['intercept'])\n",
    "np.savetxt('hbm_slope0s.csv', sample_trace_train['slope_0'])\n",
    "np.savetxt('hbm_slope1s.csv', sample_trace_train['slope_1'])\n",
    "np.savetxt('hbm_noises.csv', sample_trace_train['noise'])\n"
   ]
  },
  {
   "cell_type": "code",
   "execution_count": 7,
   "metadata": {},
   "outputs": [
    {
     "name": "stderr",
     "output_type": "stream",
     "text": [
      "Auto-assigning NUTS sampler...\n",
      "Initializing NUTS using jitter+adapt_diag...\n",
      "Multiprocess sampling (4 chains in 4 jobs)\n",
      "NUTS: [noise, g_noise, g_slope2, g_slope1, g_slope0, g, g_intercept]\n"
     ]
    },
    {
     "data": {
      "text/html": [
       "\n",
       "<style>\n",
       "    /* Turns off some styling */\n",
       "    progress {\n",
       "        /* gets rid of default border in Firefox and Opera. */\n",
       "        border: none;\n",
       "        /* Needs to be in here for Safari polyfill so background images work as expected. */\n",
       "        background-size: auto;\n",
       "    }\n",
       "    progress:not([value]), progress:not([value])::-webkit-progress-bar {\n",
       "        background: repeating-linear-gradient(45deg, #7e7e7e, #7e7e7e 10px, #5c5c5c 10px, #5c5c5c 20px);\n",
       "    }\n",
       "    .progress-bar-interrupted, .progress-bar-interrupted::-webkit-progress-bar {\n",
       "        background: #F44336;\n",
       "    }\n",
       "</style>\n"
      ],
      "text/plain": [
       "<IPython.core.display.HTML object>"
      ]
     },
     "metadata": {},
     "output_type": "display_data"
    },
    {
     "data": {
      "text/html": [
       "\n",
       "    <div>\n",
       "      <progress value='8000' class='' max='8000' style='width:300px; height:20px; vertical-align: middle;'></progress>\n",
       "      100.00% [8000/8000 01:00&lt;00:00 Sampling 4 chains, 0 divergences]\n",
       "    </div>\n",
       "    "
      ],
      "text/plain": [
       "<IPython.core.display.HTML object>"
      ]
     },
     "metadata": {},
     "output_type": "display_data"
    },
    {
     "name": "stderr",
     "output_type": "stream",
     "text": [
      "Sampling 4 chains for 1_000 tune and 1_000 draw iterations (4_000 + 4_000 draws total) took 61 seconds.\n"
     ]
    },
    {
     "data": {
      "text/html": [
       "\n",
       "<style>\n",
       "    /* Turns off some styling */\n",
       "    progress {\n",
       "        /* gets rid of default border in Firefox and Opera. */\n",
       "        border: none;\n",
       "        /* Needs to be in here for Safari polyfill so background images work as expected. */\n",
       "        background-size: auto;\n",
       "    }\n",
       "    progress:not([value]), progress:not([value])::-webkit-progress-bar {\n",
       "        background: repeating-linear-gradient(45deg, #7e7e7e, #7e7e7e 10px, #5c5c5c 10px, #5c5c5c 20px);\n",
       "    }\n",
       "    .progress-bar-interrupted, .progress-bar-interrupted::-webkit-progress-bar {\n",
       "        background: #F44336;\n",
       "    }\n",
       "</style>\n"
      ],
      "text/plain": [
       "<IPython.core.display.HTML object>"
      ]
     },
     "metadata": {},
     "output_type": "display_data"
    },
    {
     "data": {
      "text/html": [
       "\n",
       "    <div>\n",
       "      <progress value='4000' class='' max='4000' style='width:300px; height:20px; vertical-align: middle;'></progress>\n",
       "      100.00% [4000/4000 00:06&lt;00:00]\n",
       "    </div>\n",
       "    "
      ],
      "text/plain": [
       "<IPython.core.display.HTML object>"
      ]
     },
     "metadata": {},
     "output_type": "display_data"
    },
    {
     "name": "stderr",
     "output_type": "stream",
     "text": [
      "Auto-assigning NUTS sampler...\n",
      "Initializing NUTS using jitter+adapt_diag...\n",
      "Multiprocess sampling (4 chains in 4 jobs)\n",
      "NUTS: [noise, g_noise, g_slope2, g_slope1, g_slope0, g, g_intercept]\n"
     ]
    },
    {
     "data": {
      "text/html": [
       "\n",
       "<style>\n",
       "    /* Turns off some styling */\n",
       "    progress {\n",
       "        /* gets rid of default border in Firefox and Opera. */\n",
       "        border: none;\n",
       "        /* Needs to be in here for Safari polyfill so background images work as expected. */\n",
       "        background-size: auto;\n",
       "    }\n",
       "    progress:not([value]), progress:not([value])::-webkit-progress-bar {\n",
       "        background: repeating-linear-gradient(45deg, #7e7e7e, #7e7e7e 10px, #5c5c5c 10px, #5c5c5c 20px);\n",
       "    }\n",
       "    .progress-bar-interrupted, .progress-bar-interrupted::-webkit-progress-bar {\n",
       "        background: #F44336;\n",
       "    }\n",
       "</style>\n"
      ],
      "text/plain": [
       "<IPython.core.display.HTML object>"
      ]
     },
     "metadata": {},
     "output_type": "display_data"
    },
    {
     "data": {
      "text/html": [
       "\n",
       "    <div>\n",
       "      <progress value='8000' class='' max='8000' style='width:300px; height:20px; vertical-align: middle;'></progress>\n",
       "      100.00% [8000/8000 00:45&lt;00:00 Sampling 4 chains, 0 divergences]\n",
       "    </div>\n",
       "    "
      ],
      "text/plain": [
       "<IPython.core.display.HTML object>"
      ]
     },
     "metadata": {},
     "output_type": "display_data"
    },
    {
     "name": "stderr",
     "output_type": "stream",
     "text": [
      "Sampling 4 chains for 1_000 tune and 1_000 draw iterations (4_000 + 4_000 draws total) took 46 seconds.\n"
     ]
    },
    {
     "data": {
      "text/html": [
       "\n",
       "<style>\n",
       "    /* Turns off some styling */\n",
       "    progress {\n",
       "        /* gets rid of default border in Firefox and Opera. */\n",
       "        border: none;\n",
       "        /* Needs to be in here for Safari polyfill so background images work as expected. */\n",
       "        background-size: auto;\n",
       "    }\n",
       "    progress:not([value]), progress:not([value])::-webkit-progress-bar {\n",
       "        background: repeating-linear-gradient(45deg, #7e7e7e, #7e7e7e 10px, #5c5c5c 10px, #5c5c5c 20px);\n",
       "    }\n",
       "    .progress-bar-interrupted, .progress-bar-interrupted::-webkit-progress-bar {\n",
       "        background: #F44336;\n",
       "    }\n",
       "</style>\n"
      ],
      "text/plain": [
       "<IPython.core.display.HTML object>"
      ]
     },
     "metadata": {},
     "output_type": "display_data"
    },
    {
     "data": {
      "text/html": [
       "\n",
       "    <div>\n",
       "      <progress value='4000' class='' max='4000' style='width:300px; height:20px; vertical-align: middle;'></progress>\n",
       "      100.00% [4000/4000 00:07&lt;00:00]\n",
       "    </div>\n",
       "    "
      ],
      "text/plain": [
       "<IPython.core.display.HTML object>"
      ]
     },
     "metadata": {},
     "output_type": "display_data"
    },
    {
     "name": "stderr",
     "output_type": "stream",
     "text": [
      "Auto-assigning NUTS sampler...\n",
      "Initializing NUTS using jitter+adapt_diag...\n",
      "Multiprocess sampling (4 chains in 4 jobs)\n",
      "NUTS: [noise, g_noise, g_slope2, g_slope1, g_slope0, g, g_intercept]\n"
     ]
    },
    {
     "data": {
      "text/html": [
       "\n",
       "<style>\n",
       "    /* Turns off some styling */\n",
       "    progress {\n",
       "        /* gets rid of default border in Firefox and Opera. */\n",
       "        border: none;\n",
       "        /* Needs to be in here for Safari polyfill so background images work as expected. */\n",
       "        background-size: auto;\n",
       "    }\n",
       "    progress:not([value]), progress:not([value])::-webkit-progress-bar {\n",
       "        background: repeating-linear-gradient(45deg, #7e7e7e, #7e7e7e 10px, #5c5c5c 10px, #5c5c5c 20px);\n",
       "    }\n",
       "    .progress-bar-interrupted, .progress-bar-interrupted::-webkit-progress-bar {\n",
       "        background: #F44336;\n",
       "    }\n",
       "</style>\n"
      ],
      "text/plain": [
       "<IPython.core.display.HTML object>"
      ]
     },
     "metadata": {},
     "output_type": "display_data"
    },
    {
     "data": {
      "text/html": [
       "\n",
       "    <div>\n",
       "      <progress value='8000' class='' max='8000' style='width:300px; height:20px; vertical-align: middle;'></progress>\n",
       "      100.00% [8000/8000 00:42&lt;00:00 Sampling 4 chains, 0 divergences]\n",
       "    </div>\n",
       "    "
      ],
      "text/plain": [
       "<IPython.core.display.HTML object>"
      ]
     },
     "metadata": {},
     "output_type": "display_data"
    },
    {
     "name": "stderr",
     "output_type": "stream",
     "text": [
      "Sampling 4 chains for 1_000 tune and 1_000 draw iterations (4_000 + 4_000 draws total) took 43 seconds.\n"
     ]
    },
    {
     "data": {
      "text/html": [
       "\n",
       "<style>\n",
       "    /* Turns off some styling */\n",
       "    progress {\n",
       "        /* gets rid of default border in Firefox and Opera. */\n",
       "        border: none;\n",
       "        /* Needs to be in here for Safari polyfill so background images work as expected. */\n",
       "        background-size: auto;\n",
       "    }\n",
       "    progress:not([value]), progress:not([value])::-webkit-progress-bar {\n",
       "        background: repeating-linear-gradient(45deg, #7e7e7e, #7e7e7e 10px, #5c5c5c 10px, #5c5c5c 20px);\n",
       "    }\n",
       "    .progress-bar-interrupted, .progress-bar-interrupted::-webkit-progress-bar {\n",
       "        background: #F44336;\n",
       "    }\n",
       "</style>\n"
      ],
      "text/plain": [
       "<IPython.core.display.HTML object>"
      ]
     },
     "metadata": {},
     "output_type": "display_data"
    },
    {
     "data": {
      "text/html": [
       "\n",
       "    <div>\n",
       "      <progress value='4000' class='' max='4000' style='width:300px; height:20px; vertical-align: middle;'></progress>\n",
       "      100.00% [4000/4000 00:07&lt;00:00]\n",
       "    </div>\n",
       "    "
      ],
      "text/plain": [
       "<IPython.core.display.HTML object>"
      ]
     },
     "metadata": {},
     "output_type": "display_data"
    },
    {
     "name": "stdout",
     "output_type": "stream",
     "text": [
      "train set: RMSE-3.146 MAPE-0.174\n",
      "testin set: RMSE-2.863 MAPE-0.16\n",
      "testout set: RMSE-7.51 MAPE-0.241\n"
     ]
    }
   ],
   "source": [
    "# This the experiment on HBM (with 3 individual level features)\n",
    "# Results recorded in Table 2\n",
    "\n",
    "selected_names = ['avg_stress', 'log_mean_dqdv_dchg_mid_3_0','log_delta_CV_time_03','DoD']\n",
    "individual_names = [ 'log_mean_dqdv_dchg_mid_3_0','log_delta_CV_time_03','DoD']\n",
    "\n",
    "rmse_hbm_train, mape_hbm_train, _, _, _ = hbm_vary_intercepts_slopes_model(train_df, train_df, selected_names, individual_names, feat_dim=3)\n",
    "rmse_hbm_testin, mape_hbm_testin, _, _, _ = hbm_vary_intercepts_slopes_model(train_df, testin_df, selected_names, individual_names, feat_dim=3)\n",
    "rmse_hbm_testout, mape_hbm_testout, _, _, _ = hbm_vary_intercepts_slopes_model(train_df, testout_df, selected_names, individual_names, feat_dim=3)\n",
    "\n",
    "print('train set: RMSE-{} MAPE-{}'.format(rmse_hbm_train.round(3), mape_hbm_train.round(3)))\n",
    "print('testin set: RMSE-{} MAPE-{}'.format(rmse_hbm_testin.round(3), mape_hbm_testin.round(3)))\n",
    "print('testout set: RMSE-{} MAPE-{}'.format(rmse_hbm_testout.round(3), mape_hbm_testout.round(3)))"
   ]
  }
 ],
 "metadata": {
  "kernelspec": {
   "display_name": "hbm",
   "language": "python",
   "name": "python3"
  },
  "language_info": {
   "codemirror_mode": {
    "name": "ipython",
    "version": 3
   },
   "file_extension": ".py",
   "mimetype": "text/x-python",
   "name": "python",
   "nbconvert_exporter": "python",
   "pygments_lexer": "ipython3",
   "version": "3.8.20"
  }
 },
 "nbformat": 4,
 "nbformat_minor": 2
}
